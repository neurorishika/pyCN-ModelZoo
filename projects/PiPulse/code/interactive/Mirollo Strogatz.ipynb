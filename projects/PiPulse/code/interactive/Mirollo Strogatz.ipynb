{
 "cells": [
  {
   "cell_type": "code",
   "execution_count": 11,
   "metadata": {},
   "outputs": [],
   "source": [
    "import numpy as np\n",
    "import matplotlib.pyplot as plt\n",
    "import seaborn as sns\n",
    "from itertools import product \n",
    "import pandas as pd\n",
    "from sklearn.cluster import KMeans\n",
    "import os\n",
    "import sudoku as sudo\n",
    "%matplotlib qt"
   ]
  },
  {
   "cell_type": "code",
   "execution_count": 30,
   "metadata": {},
   "outputs": [],
   "source": [
    "n = 81\n",
    "eps = 0.01\n",
    "time = 80000\n",
    "space = np.zeros((n,int(time)))\n",
    "\n",
    "# def H(x,strength,b=5):\n",
    "#     return np.exp(b*strength)*x+ (np.exp(b*strength)-1)/(np.exp(b)-1)\n",
    "# def H(x,strength,gamma=1,I=1.01):\n",
    "#     tif = -1/gamma*np.log(1-(gamma/I))\n",
    "#     return 1/tif * np.log(1/(np.exp(-tif*x)-(gamma/I)*strength))\n",
    "\n",
    "\n",
    "def U(x,gamma=1,I=1.01):\n",
    "    tif = -(1/gamma)*np.log(1-(gamma/I))\n",
    "    return I/gamma*(1-np.exp(-tif*x))\n",
    "\n",
    "def U_inv(x,gamma=1,I=1.01):\n",
    "    tif = -(1/gamma)*np.log(1-(gamma/I))\n",
    "    return -1/tif*np.log(1-(gamma/I)*x)\n",
    "\n",
    "def H(x,strength,gamma=1,I=1.008):\n",
    "    temp = np.clip(U(x,gamma=gamma,I=I)+strength,0,1)\n",
    "    return U_inv(temp,gamma=gamma,I=I)\n",
    "\n",
    "\n",
    "inh = np.load(\"sudoku.npy\")\n",
    "exi = 1-inh\n",
    "np.fill_diagonal(exi,0.0)\n"
   ]
  },
  {
   "cell_type": "code",
   "execution_count": 33,
   "metadata": {},
   "outputs": [
    {
     "name": "stdout",
     "output_type": "stream",
     "text": [
      "CPU times: user 5.98 s, sys: 71.2 ms, total: 6.05 s\n",
      "Wall time: 6.01 s\n"
     ]
    }
   ],
   "source": [
    "%%time\n",
    "sudoku = sudo.printSudoku(sudo.perfectSudoku())\n",
    "\n",
    "#state = np.zeros(n)#np.random.normal(size=n)%1\n",
    "#state[np.argsort(sudoku.flatten())] = np.repeat(np.linspace(0,1,10)[:-1],9)\n",
    "\n",
    "state = np.random.normal(size=n)%1\n",
    "\n",
    "\n",
    "for i in range(int(time)):\n",
    "    \n",
    "    #state -= 0.001*np.abs(np.random.normal(size=n))\n",
    "    \n",
    "    fire_time = np.min(1-state)   \n",
    "    \n",
    "    state = state + fire_time\n",
    "    \n",
    "    new_state = state + eps\n",
    "    \n",
    "    #m = 0\n",
    "    while np.sum(new_state>=1)>0:\n",
    "        #print(m,end=\"\\r\")\n",
    "        #m+=1\n",
    "        \n",
    "        fire = new_state>=1\n",
    "        \n",
    "        new_state[fire] = 0.0\n",
    "        \n",
    "        coupling_exi = 0.0003*(np.matmul(exi,fire)>0)\n",
    "        coupling_inh = 0.0006*np.matmul(inh,fire)\n",
    "        \n",
    "        total = coupling_exi-coupling_inh\n",
    "        #print(total)\n",
    "        \n",
    "        state = new_state\n",
    "        new_state = np.clip(H(state,total),a_min=0,a_max=None)\n",
    "        \n",
    "    state = new_state\n",
    "    space[:,i] = state\n",
    "    if i%1000 == 0:\n",
    "        print('Progress',round(i/int(time)*100,1),\"%\",end=\"\\r\")"
   ]
  },
  {
   "cell_type": "code",
   "execution_count": 34,
   "metadata": {
    "scrolled": false
   },
   "outputs": [
    {
     "name": "stdout",
     "output_type": "stream",
     "text": [
      "\n"
     ]
    }
   ],
   "source": [
    "df = pd.DataFrame(space[:,-1:])\n",
    "model = KMeans(n_clusters=9)\n",
    "pred = model.fit_predict(df)\n",
    "order = np.argsort(pred)\n",
    "fig = plt.figure(figsize=(15,10))\n",
    "g = sns.heatmap(space[order,-100:],yticklabels=2,xticklabels=100,cmap='viridis')\n",
    "#g = sns.heatmap(space[:,-100:],yticklabels=2,xticklabels=100,cmap='viridis')\n",
    "g.set_yticklabels(fig.axes[0].get_yticklabels(),rotation=0)\n",
    "print()"
   ]
  },
  {
   "cell_type": "code",
   "execution_count": 35,
   "metadata": {},
   "outputs": [],
   "source": [
    "rs =100\n",
    "phase = space[:,::rs]-space[0,::rs]\n",
    "phase[phase<0] = 1+phase[phase<0]\n",
    "#phase = np.min([np.abs(space[:,::rs]-space[0,::rs]),np.abs(1-space[:,::rs]+space[0,::rs]),np.abs(1+space[:,::rs]-space[0,::rs])],axis=0)\n",
    "\n",
    "\n",
    "plt.figure()\n",
    "cm = plt.cm.hsv(np.linspace(0.5,1,9))\n",
    "for i in range(81):\n",
    "    plt.plot(phase[i,:],'.',markersize=1,c=cm[pred[i]])\n",
    "#plt.plot(np.linspace(0,500,10000),np.abs())\n",
    "plt.show()"
   ]
  },
  {
   "cell_type": "code",
   "execution_count": 27,
   "metadata": {},
   "outputs": [
    {
     "name": "stdout",
     "output_type": "stream",
     "text": [
      "10\n",
      "14\n",
      "26\n",
      "0\n",
      "0\n",
      "20\n",
      "0\n",
      "0\n",
      "6\n"
     ]
    }
   ],
   "source": [
    "for i in range(9):\n",
    "    temp = np.arange(0,81,1,dtype=np.int32)[pred==i]\n",
    "    sum_ = 0\n",
    "    for j,k in product(temp,temp):\n",
    "        sum_ += inh[j,k]\n",
    "    print(sum_)"
   ]
  },
  {
   "cell_type": "code",
   "execution_count": 364,
   "metadata": {},
   "outputs": [],
   "source": [
    "from matplotlib.animation import FuncAnimation\n",
    "import matplotlib as mpl\n",
    "\n",
    "fig, ax = plt.subplots(figsize=(10,10))\n",
    "ax.set(xlim=(-1.5, 1.5), ylim=(-1.5, 1.5))\n",
    "\n",
    "def phasetopos(phi):\n",
    "    return np.cos(2*np.pi*phi), np.sin(2*np.pi*phi)\n",
    "\n",
    "temp = phasetopos(space[:,0])\n",
    "data = ax.plot(temp[0],temp[1],'o',alpha=0.5)[0]\n",
    "\n",
    "def animate(i):\n",
    "    temp = phasetopos(space[:,i])\n",
    "    data.set_xdata(temp[0])\n",
    "    data.set_ydata(temp[1])\n",
    "\n",
    "anim = FuncAnimation(\n",
    "    fig, animate, interval=100, frames=int(time/eps)-1,repeat=False)\n",
    " \n",
    "plt.draw()\n",
    "plt.show()"
   ]
  },
  {
   "cell_type": "code",
   "execution_count": 28,
   "metadata": {
    "scrolled": true
   },
   "outputs": [
    {
     "data": {
      "text/plain": [
       "array([[8, 2, 2, 6, 6, 3, 5, 1, 4],\n",
       "       [1, 5, 6, 2, 4, 3, 3, 2, 2],\n",
       "       [3, 4, 9, 1, 1, 5, 3, 6, 6],\n",
       "       [6, 3, 3, 3, 9, 2, 1, 7, 5],\n",
       "       [4, 9, 2, 5, 1, 2, 8, 3, 3],\n",
       "       [5, 1, 1, 3, 6, 6, 2, 9, 9],\n",
       "       [9, 1, 7, 9, 5, 1, 6, 3, 6],\n",
       "       [3, 3, 6, 4, 2, 7, 9, 5, 8],\n",
       "       [2, 6, 5, 6, 3, 8, 9, 4, 1]], dtype=int32)"
      ]
     },
     "execution_count": 28,
     "metadata": {},
     "output_type": "execute_result"
    }
   ],
   "source": [
    "#sudoku\n",
    "(pred+1).reshape((9,9))"
   ]
  },
  {
   "cell_type": "code",
   "execution_count": 362,
   "metadata": {},
   "outputs": [],
   "source": [
    "def check_sudo(x):\n",
    "    for i in range(9):\n",
    "        if not np.array_equal(np.sort(x[:,i]),np.arange(1,10,dtype=np.int32)):\n",
    "            print(\"column\",i)\n",
    "            return False\n",
    "        if not np.array_equal(np.sort(x[i,:]),np.arange(1,10,dtype=np.int32)):\n",
    "            print(\"row\",i)\n",
    "            return False\n",
    "    for i,j in product(range(3),range(3)):    \n",
    "        if not np.array_equal(np.sort(x[3*i:3*i+3,3*j:3*j+3].flatten()),np.arange(1,10,dtype=np.int32)):\n",
    "            print(i,j)\n",
    "            return False\n",
    "    return True"
   ]
  },
  {
   "cell_type": "code",
   "execution_count": 363,
   "metadata": {},
   "outputs": [
    {
     "data": {
      "text/plain": [
       "True"
      ]
     },
     "execution_count": 363,
     "metadata": {},
     "output_type": "execute_result"
    }
   ],
   "source": [
    "check_sudo((pred+1).reshape((9,9)))"
   ]
  },
  {
   "cell_type": "code",
   "execution_count": 531,
   "metadata": {},
   "outputs": [],
   "source": [
    "x=np.arange(0,1,0.01)\n",
    "for I,c in zip([1.1,1.01,1.001,1.0001,1.00001],plt.cm.viridis(np.linspace(0,1,5))):\n",
    "    plt.plot(x,U(x,I=I),label=r\"$I=$\"+str(I),color=c)\n",
    "plt.legend()\n",
    "plt.show()"
   ]
  },
  {
   "cell_type": "code",
   "execution_count": null,
   "metadata": {},
   "outputs": [],
   "source": []
  },
  {
   "cell_type": "code",
   "execution_count": null,
   "metadata": {},
   "outputs": [],
   "source": []
  },
  {
   "cell_type": "code",
   "execution_count": null,
   "metadata": {},
   "outputs": [],
   "source": []
  },
  {
   "cell_type": "code",
   "execution_count": null,
   "metadata": {},
   "outputs": [],
   "source": []
  },
  {
   "cell_type": "code",
   "execution_count": null,
   "metadata": {},
   "outputs": [],
   "source": []
  },
  {
   "cell_type": "code",
   "execution_count": null,
   "metadata": {},
   "outputs": [],
   "source": []
  },
  {
   "cell_type": "code",
   "execution_count": null,
   "metadata": {},
   "outputs": [],
   "source": []
  },
  {
   "cell_type": "code",
   "execution_count": null,
   "metadata": {},
   "outputs": [],
   "source": []
  },
  {
   "cell_type": "code",
   "execution_count": null,
   "metadata": {},
   "outputs": [],
   "source": []
  },
  {
   "cell_type": "code",
   "execution_count": null,
   "metadata": {},
   "outputs": [],
   "source": []
  },
  {
   "cell_type": "code",
   "execution_count": null,
   "metadata": {},
   "outputs": [],
   "source": []
  },
  {
   "cell_type": "code",
   "execution_count": 530,
   "metadata": {},
   "outputs": [],
   "source": [
    "x=np.arange(0,1,0.01)\n",
    "for I,c in zip([1.1,1.01,1.001,1.0001,1.00001],plt.cm.viridis(np.linspace(0,1,5))):\n",
    "    plt.plot(x,U_inv(x,I=I),label=r\"$I=$\"+str(I),color=c)\n",
    "plt.legend()\n",
    "plt.show()"
   ]
  },
  {
   "cell_type": "code",
   "execution_count": 546,
   "metadata": {},
   "outputs": [],
   "source": [
    "x=np.arange(0,1,0.01)\n",
    "for b,c in zip(np.linspace(-1,1,50),plt.cm.RdBu(np.linspace(0,1,50))):\n",
    "    plt.plot(x,H(x,0.02*b),color=c)\n",
    "plt.show()"
   ]
  },
  {
   "cell_type": "code",
   "execution_count": 68,
   "metadata": {
    "scrolled": false
   },
   "outputs": [
    {
     "data": {
      "image/png": "[encoded data removed]",
      "text/plain": [
       "<Figure size 432x288 with 1 Axes>"
      ]
     },
     "metadata": {
      "needs_background": "light"
     },
     "output_type": "display_data"
    }
   ],
   "source": [
    "x=np.arange(0,1,0.01)\n",
    "for b in [0.5,1,2,5,10]:\n",
    "    plt.plot(x,1/b*np.log(1+(np.exp(b)-1)*x),label='b='+str(b))\n",
    "plt.legend()\n",
    "plt.show()"
   ]
  },
  {
   "cell_type": "code",
   "execution_count": 16,
   "metadata": {},
   "outputs": [
    {
     "data": {
      "image/png": "[encoded data removed]",
      "text/plain": [
       "<Figure size 432x288 with 1 Axes>"
      ]
     },
     "metadata": {
      "needs_background": "light"
     },
     "output_type": "display_data"
    }
   ],
   "source": [
    "x=np.arange(0,81,0.01)\n",
    "for a in [2,1,0.75,0.5,0.25]:\n",
    "    plt.plot(x,kernel(x,a=a),label='a='+str(a))\n",
    "plt.legend()\n",
    "plt.show()"
   ]
  },
  {
   "cell_type": "code",
   "execution_count": 425,
   "metadata": {
    "scrolled": false
   },
   "outputs": [
    {
     "data": {
      "text/plain": [
       "<matplotlib.axes._subplots.AxesSubplot at 0x7f6090a2d5f8>"
      ]
     },
     "execution_count": 425,
     "metadata": {},
     "output_type": "execute_result"
    }
   ],
   "source": [
    "plt.figure(figsize=(15,5))\n",
    "order = np.argsort(space[:,-1])\n",
    "sns.heatmap(space[order,-1000:],yticklabels=9,xticklabels=100,cmap='viridis')\n",
    "#sns.heatmap(space[:,-2000:],xticklabels=100,cmap='viridis')\n",
    "#plt.imshow(space[:,-200:])"
   ]
  }
 ],
 "metadata": {
  "kernelspec": {
   "display_name": "Python 3",
   "language": "python",
   "name": "python3"
  },
  "language_info": {
   "codemirror_mode": {
    "name": "ipython",
    "version": 3
   },
   "file_extension": ".py",
   "mimetype": "text/x-python",
   "name": "python",
   "nbconvert_exporter": "python",
   "pygments_lexer": "ipython3",
   "version": "3.6.6"
  }
 },
 "nbformat": 4,
 "nbformat_minor": 2
}
