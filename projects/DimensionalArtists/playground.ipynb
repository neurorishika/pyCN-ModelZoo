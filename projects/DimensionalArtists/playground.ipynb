{
 "cells": [
  {
   "cell_type": "code",
   "execution_count": 338,
   "metadata": {},
   "outputs": [],
   "source": [
    "import numpy as np\n",
    "import matplotlib.pyplot as plt\n",
    "from sklearn.decomposition import PCA\n",
    "\n",
    "## N-dimensional trajectory generation\n",
    "\n",
    "def generate_trajectory(n_dim, n_steps=300, step_size=1e-2, epsilon=1e-4, resolution=3, seed=None):\n",
    "    \"\"\"\n",
    "    Generate a dynamical trajectory in n-dimensional space.\n",
    "    \"\"\"\n",
    "    # set seed\n",
    "    if seed is not None:\n",
    "        np.random.seed(seed)\n",
    "    # generate random starting point\n",
    "    x = np.ones(n_dim)\n",
    "    # generate random dynamical matrix\n",
    "    A = np.random.choice(np.linspace(-1, 1, resolution) + np.linspace(-1j, 1j, resolution), size=(n_dim, n_dim))\n",
    "\n",
    "    # generate trajectory\n",
    "    x_traj = np.zeros((n_steps, n_dim))\n",
    "    x_traj[0, :] = x\n",
    "    for i in range(1, n_steps):\n",
    "        for j in range(int(step_size/epsilon)):\n",
    "            x = x + (np.dot(A, x) - x**2) * epsilon\n",
    "        x_traj[i, :] = np.real(x)\n",
    "\n",
    "    # normalize trajectory\n",
    "    for i in range(n_dim):\n",
    "        x_traj[:,i] = (x_traj[:,i] - x_traj[:,i].min()) / (x_traj[:,i].max() - x_traj[:,i].min())\n",
    "\n",
    "    return x_traj\n",
    "\n",
    "def low_dimensional_projection(traj, n_dim=2):\n",
    "    \"\"\"\n",
    "    Project a dynamical trajectory in n-dimensional space to n_dim-dimensional space.\n",
    "    \"\"\"\n",
    "    pca = PCA(n_components=n_dim)\n",
    "    pca.fit(traj)\n",
    "    pca_traj = pca.transform(traj)\n",
    "    score = np.sum(pca.explained_variance_ratio_)\n",
    "    return pca_traj,score\n"
   ]
  },
  {
   "cell_type": "code",
   "execution_count": 352,
   "metadata": {},
   "outputs": [
    {
     "data": {
      "image/png": "[encoded data removed]",
      "text/plain": [
       "<Figure size 432x288 with 1 Axes>"
      ]
     },
     "metadata": {
      "needs_background": "light"
     },
     "output_type": "display_data"
    }
   ],
   "source": [
    "traj = generate_trajectory(3)\n",
    "# apply PCA to trajectory\n",
    "pca_traj,score = low_dimensional_projection(traj, n_dim=2)\n",
    "# plot PCA trajectory\n",
    "fig, ax = plt.subplots()\n",
    "ax.plot(pca_traj[:, 0], pca_traj[:, 1])\n",
    "ax.set_xlabel(\"PC1\")\n",
    "ax.set_ylabel(\"PC2\")\n",
    "ax.set_title(\"{:0.2f}\".format(score))\n",
    "plt.show()"
   ]
  },
  {
   "cell_type": "code",
   "execution_count": 353,
   "metadata": {},
   "outputs": [],
   "source": [
    "pca = PCA(n_components=2)\n",
    "pca.fit(traj)\n",
    "pca_traj = pca.transform(traj)"
   ]
  },
  {
   "cell_type": "code",
   "execution_count": 354,
   "metadata": {},
   "outputs": [
    {
     "data": {
      "text/plain": [
       "array([0.94885948, 0.0509926 ])"
      ]
     },
     "execution_count": 354,
     "metadata": {},
     "output_type": "execute_result"
    }
   ],
   "source": [
    "pca.explained_variance_ratio_   "
   ]
  },
  {
   "cell_type": "code",
   "execution_count": 385,
   "metadata": {},
   "outputs": [],
   "source": [
    "ndim = 3\n",
    "\n",
    "def minfunc(x_,params):\n",
    "    A = params[:ndim**2].reshape(ndim,ndim)\n",
    "    B = params[ndim**2:2*ndim**2].reshape(ndim,ndim)\n",
    "    C = params[2*ndim**2:2*ndim**2+ndim*2].reshape(ndim,2)\n",
    "    j = params[2*ndim**2+ndim*2:].reshape(ndim,1)\n",
    "    sum = 0\n",
    "    for i in range(len(x_),0,-1):\n",
    "        x_next = x_[i]\n",
    "        x = x_[i-1]\n",
    "        sum += np.sum(np.real((A+B*1j)*(np.dot(C,x)+j*1j) - (np.dot(C,x)-j*1j)**2) - np.dot(C,x_next))\n",
    "    return \n",
    "\n",
    "# minimize the function\n",
    "params = np.random.rand(2*ndim**2+ndim*2+ndim)\n"
   ]
  },
  {
   "cell_type": "code",
   "execution_count": 386,
   "metadata": {},
   "outputs": [
    {
     "name": "stdout",
     "output_type": "stream",
     "text": [
      "(3, 3) (3, 3) (3, 2) (3, 1)\n"
     ]
    },
    {
     "ename": "ValueError",
     "evalue": "operands could not be broadcast together with shapes (3,3) (3,300) ",
     "output_type": "error",
     "traceback": [
      "\u001b[1;31m---------------------------------------------------------------------------\u001b[0m",
      "\u001b[1;31mValueError\u001b[0m                                Traceback (most recent call last)",
      "\u001b[1;32mc:\\Rishika\\Projects\\artist_model\\playground.ipynb Cell 6\u001b[0m in \u001b[0;36m<cell line: 1>\u001b[1;34m()\u001b[0m\n\u001b[1;32m----> <a href='vscode-notebook-cell:/c%3A/Rishika/Projects/artist_model/playground.ipynb#W6sZmlsZQ%3D%3D?line=0'>1</a>\u001b[0m minfunc(pca_traj\u001b[39m.\u001b[39;49mT,params)\n",
      "\u001b[1;32mc:\\Rishika\\Projects\\artist_model\\playground.ipynb Cell 6\u001b[0m in \u001b[0;36mminfunc\u001b[1;34m(x, params)\u001b[0m\n\u001b[0;32m      <a href='vscode-notebook-cell:/c%3A/Rishika/Projects/artist_model/playground.ipynb#W6sZmlsZQ%3D%3D?line=6'>7</a>\u001b[0m j \u001b[39m=\u001b[39m params[\u001b[39m2\u001b[39m\u001b[39m*\u001b[39mndim\u001b[39m*\u001b[39m\u001b[39m*\u001b[39m\u001b[39m2\u001b[39m\u001b[39m+\u001b[39mndim\u001b[39m*\u001b[39m\u001b[39m2\u001b[39m:]\u001b[39m.\u001b[39mreshape(ndim,\u001b[39m1\u001b[39m)\n\u001b[0;32m      <a href='vscode-notebook-cell:/c%3A/Rishika/Projects/artist_model/playground.ipynb#W6sZmlsZQ%3D%3D?line=7'>8</a>\u001b[0m \u001b[39mprint\u001b[39m(A\u001b[39m.\u001b[39mshape,B\u001b[39m.\u001b[39mshape,C\u001b[39m.\u001b[39mshape,j\u001b[39m.\u001b[39mshape)\n\u001b[1;32m----> <a href='vscode-notebook-cell:/c%3A/Rishika/Projects/artist_model/playground.ipynb#W6sZmlsZQ%3D%3D?line=8'>9</a>\u001b[0m \u001b[39mreturn\u001b[39;00m (A\u001b[39m+\u001b[39;49mB\u001b[39m*\u001b[39;49m\u001b[39m1\u001b[39;49mj)\u001b[39m*\u001b[39;49m(np\u001b[39m.\u001b[39;49mdot(C,x)\u001b[39m+\u001b[39;49mj\u001b[39m*\u001b[39;49m\u001b[39m1\u001b[39;49mj) \u001b[39m-\u001b[39m (np\u001b[39m.\u001b[39mdot(C,x)\u001b[39m-\u001b[39mj\u001b[39m*\u001b[39m\u001b[39m1\u001b[39mj)\u001b[39m*\u001b[39m\u001b[39m*\u001b[39m\u001b[39m2\u001b[39m \u001b[39m-\u001b[39m np\u001b[39m.\u001b[39mdot(C,x)\n",
      "\u001b[1;31mValueError\u001b[0m: operands could not be broadcast together with shapes (3,3) (3,300) "
     ]
    }
   ],
   "source": [
    "minfunc(pca_traj.T,params)"
   ]
  },
  {
   "cell_type": "code",
   "execution_count": null,
   "metadata": {},
   "outputs": [],
   "source": []
  }
 ],
 "metadata": {
  "kernelspec": {
   "display_name": "Python 3.9.12 ('flymazerl')",
   "language": "python",
   "name": "python3"
  },
  "language_info": {
   "codemirror_mode": {
    "name": "ipython",
    "version": 3
   },
   "file_extension": ".py",
   "mimetype": "text/x-python",
   "name": "python",
   "nbconvert_exporter": "python",
   "pygments_lexer": "ipython3",
   "version": "3.9.12"
  },
  "orig_nbformat": 4,
  "vscode": {
   "interpreter": {
    "hash": "97727a114667ed15117250b5fec8748dc40cf28e874283bb31e511af3ebb2b4c"
   }
  }
 },
 "nbformat": 4,
 "nbformat_minor": 2
}
