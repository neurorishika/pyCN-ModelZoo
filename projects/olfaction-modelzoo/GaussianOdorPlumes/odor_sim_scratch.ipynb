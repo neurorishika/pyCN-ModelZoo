{
 "cells": [
  {
   "cell_type": "code",
   "execution_count": 6,
   "metadata": {},
   "outputs": [
    {
     "name": "stderr",
     "output_type": "stream",
     "text": [
      "100%|██████████| 1000/1000 [00:01<00:00, 717.82it/s]\n"
     ]
    }
   ],
   "source": [
    "import numpy as np\n",
    "import scipy.ndimage as nd\n",
    "import matplotlib.pyplot as plt\n",
    "from tqdm import tqdm\n",
    "import os\n",
    "import sys\n",
    "from PIL import Image\n",
    "\n",
    "if not os.path.exists('temp'):\n",
    "    os.makedirs('temp')\n",
    "\n",
    "# set random seed for reproducibility\n",
    "np.random.seed(0)\n",
    "\n",
    "# Define a function to simulate an odor plume\n",
    "def simulate_odor_plume(\n",
    "            num_steps: int, # number of steps to simulate\n",
    "            dt: float, # time step\n",
    "            grid_size: tuple, # size of the grid\n",
    "            source_location: tuple, # location of the odor source\n",
    "            source_strength: np.ndarray, # strength of the odor source time series\n",
    "            source_radius: np.ndarray, # radius of the odor source time series\n",
    "            release_rate: float, # odor release rate\n",
    "            wind_speed: np.ndarray, # wind speed time series\n",
    "            wind_direction: np.ndarray, # wind direction time series \n",
    "            diffusion_coefficient: float, # diffusion coefficient\n",
    "        ) -> np.ndarray:\n",
    "    \n",
    "    # Extract grid size\n",
    "    grid_width, grid_height = grid_size\n",
    "\n",
    "    # Initialize concentration grid and concentration time series\n",
    "    concentration = np.zeros(grid_size)\n",
    "    concentration_time_series = np.zeros((num_steps, grid_size[0], grid_size[1]))\n",
    "    \n",
    "    # Initialize source at the center of the grid\n",
    "    source_y, source_x = source_location\n",
    "\n",
    "    \n",
    "    for step in tqdm(range(num_steps)):\n",
    "        # Calculate wind velocity components\n",
    "        wind_velocity_x = wind_speed[step] * np.cos(wind_direction[step]) * dt\n",
    "        wind_velocity_y = wind_speed[step] * np.sin(wind_direction[step]) * dt\n",
    "        \n",
    "        # Compute advection using 2d shift\n",
    "        concentration = nd.shift(concentration, (wind_velocity_x, wind_velocity_y), order=0)\n",
    "        \n",
    "        # Release odor bursts from the source\n",
    "        poisson = np.random.poisson(release_rate * dt)\n",
    "        if poisson > 0:\n",
    "            # create a 2D Gaussian centered at the source with the specified radius\n",
    "            increase_x,increase_y = np.meshgrid(np.arange(grid_height), np.arange(grid_width))\n",
    "            increase = np.exp(-((increase_x - source_x)**2 + (increase_y - source_y)**2) / (2*source_radius[step]**2))\n",
    "            increase = increase / np.sum(increase)\n",
    "            # add the Gaussian to the concentration grid\n",
    "            concentration += source_strength[step] * increase * poisson\n",
    "        \n",
    "        # Compute diffusion using 2D convolution with Gaussian filter\n",
    "        concentration = nd.gaussian_filter(concentration, diffusion_coefficient)\n",
    "        \n",
    "        # Store concentration in concentration time series\n",
    "        concentration_time_series[step] = concentration\n",
    "    \n",
    "    return concentration_time_series\n",
    "\n",
    "# Example usage\n",
    "dt = 0.1\n",
    "num_steps = 1000\n",
    "grid_size = (500, 50)\n",
    "wind_speed = np.random.normal(10, 0., num_steps)\n",
    "wind_direction = np.random.normal(0., 0, num_steps)\n",
    "diffusion_coefficient = 0.5\n",
    "release_rate = 20\n",
    "source_location = (10, 25)\n",
    "source_strength = np.random.normal(1, 0.0, num_steps)\n",
    "source_radius = np.random.normal(1, 0.0, num_steps)\n",
    "\n",
    "time_series = simulate_odor_plume(\n",
    "    num_steps=num_steps,\n",
    "    dt=dt,\n",
    "    grid_size=grid_size,\n",
    "    source_location=source_location,\n",
    "    source_strength=source_strength,\n",
    "    source_radius=source_radius,\n",
    "    release_rate=release_rate,\n",
    "    wind_speed=wind_speed,\n",
    "    wind_direction=wind_direction,\n",
    "    diffusion_coefficient=diffusion_coefficient,\n",
    ")\n"
   ]
  },
  {
   "cell_type": "code",
   "execution_count": 7,
   "metadata": {},
   "outputs": [
    {
     "name": "stderr",
     "output_type": "stream",
     "text": [
      "100%|██████████| 1000/1000 [00:00<00:00, 4320.47it/s]\n"
     ]
    }
   ],
   "source": [
    "# discretize (if needed)\n",
    "digitize = None\n",
    "space = 'linear' # 'log' or 'linear' or 'geom'\n",
    "\n",
    "if digitize is not None:\n",
    "    if space == 'log':\n",
    "        bins = np.max(time_series)+ 1e-5 - np.logspace(np.log10(np.max(time_series)),-5, digitize)\n",
    "    elif space == 'linear':\n",
    "        bins = np.linspace(0, np.max(time_series), digitize)\n",
    "    elif space == 'geom':\n",
    "        bins = np.max(time_series)+ 1e-5 - np.geomspace(np.max(time_series), 1e-5, digitize)\n",
    "    ts = np.digitize(time_series, bins)\n",
    "else:\n",
    "    ts = time_series\n",
    "\n",
    "# convert time series to GIF using PIL\n",
    "frames = []\n",
    "maxx = np.max(ts)\n",
    "for i in tqdm(range(num_steps)):\n",
    "    frame = Image.fromarray(np.uint8(ts[i]/maxx * 255).T)\n",
    "    frames.append(frame)\n",
    "frames[0].save('odor_plume.gif', format='GIF', append_images=frames[1:], save_all=True, fps=30, loop=0)"
   ]
  },
  {
   "cell_type": "code",
   "execution_count": 3,
   "metadata": {},
   "outputs": [
    {
     "name": "stdout",
     "output_type": "stream",
     "text": [
      "100%|█████████▉| 996/1000 [00:34<00:00, 34.28it/s]"
     ]
    },
    {
     "data": {
      "image/png": "[encoded data removed]",
      "text/plain": [
       "<Figure size 1000x200 with 1 Axes>"
      ]
     },
     "metadata": {},
     "output_type": "display_data"
    },
    {
     "name": "stdout",
     "output_type": "stream",
     "text": [
      "100%|█████████▉| 996/1000 [00:45<00:00, 34.28it/s]"
     ]
    }
   ],
   "source": [
    "# make an animation using matplotlib of the odor plume at y = source_location[1]\n",
    "fig, ax = plt.subplots(figsize=(10, 2), dpi=100)\n",
    "ax.set_xlim(0, grid_size[0])\n",
    "ax.set_ylim(0, np.max(ts))\n",
    "ax.set_xlabel('x')\n",
    "ax.set_ylabel('concentration')\n",
    "ax.set_title('Odor plume at y = {}'.format(source_location[1]))\n",
    "ax.spines['top'].set_visible(False)\n",
    "ax.spines['right'].set_visible(False)\n",
    "ax.spines['bottom'].set_visible(True)\n",
    "fig.tight_layout()\n",
    "\n",
    "line, = ax.plot([], [], lw=2)\n",
    "def init():\n",
    "    line.set_data([], [])\n",
    "    return (line,)\n",
    "def animate(i):\n",
    "    line.set_data(np.arange(grid_size[0]), ts[i, :, source_location[1]])\n",
    "    return (line,)\n",
    "from matplotlib.animation import FuncAnimation\n",
    "anim = FuncAnimation(fig, animate, init_func=init, frames=tqdm(range(num_steps), file=sys.stdout), interval=20, blit=True)\n",
    "anim.save('odor_conc.gif', fps=30)"
   ]
  },
  {
   "cell_type": "code",
   "execution_count": 22,
   "metadata": {},
   "outputs": [
    {
     "name": "stderr",
     "output_type": "stream",
     "text": [
      "  2%|▏         | 11/600 [00:00<00:05, 102.34it/s]"
     ]
    },
    {
     "name": "stderr",
     "output_type": "stream",
     "text": [
      "100%|██████████| 600/600 [00:19<00:00, 31.43it/s]\n"
     ]
    }
   ],
   "source": [
    "import numpy as np\n",
    "import scipy.ndimage as nd\n",
    "import matplotlib.pyplot as plt\n",
    "from tqdm import tqdm\n",
    "import os\n",
    "import sys\n",
    "from PIL import Image\n",
    "\n",
    "if not os.path.exists('temp'):\n",
    "    os.makedirs('temp')\n",
    "\n",
    "# set random seed for reproducibility\n",
    "np.random.seed(0)\n",
    "\n",
    "# Define a function to simulate an odor plume\n",
    "def simulate_odor_plume(\n",
    "            num_steps: int, # number of steps to simulate\n",
    "            dt: float, # time step\n",
    "            grid_size: tuple, # size of the grid\n",
    "            source_location: tuple, # location of the odor source\n",
    "            source_init_radius: float, # initial radius of the odor source\n",
    "            source_peak_concentration: float, # initial concentration of the odor source\n",
    "            puff_release_rate: float, # odor release rate\n",
    "            init_num_puffs: int, # initial number of puffs\n",
    "            max_puffs: int, # maximum number of puffs\n",
    "            diffusion_coefficient: float, # diffusion coefficient\n",
    "            brownian_noise_scale: float, # scale of the Brownian noise\n",
    "            wind_speed: np.ndarray, # wind speed time series\n",
    "            wind_direction: np.ndarray, # wind direction time series \n",
    "        ) -> np.ndarray:\n",
    "    \n",
    "    # Extract grid size\n",
    "    grid_width, grid_height = grid_size\n",
    "\n",
    "    # Initialize concentration grid and concentration time series\n",
    "    concentration_time_series = np.zeros((num_steps, grid_size[0], grid_size[1]))\n",
    "\n",
    "    # Set source location\n",
    "    source_y, source_x = source_location\n",
    "\n",
    "    # initialize puffs\n",
    "    puffs = np.array([[source_x, source_y, source_init_radius, source_peak_concentration]]*init_num_puffs, dtype=np.float32)\n",
    "    n_puffs = init_num_puffs\n",
    "\n",
    "    \n",
    "    for step in tqdm(range(num_steps)):\n",
    "\n",
    "        # Release odor puffs from the source\n",
    "        poisson = np.random.poisson(puff_release_rate * dt)\n",
    "        if poisson > 0:\n",
    "            for _ in range(min(poisson, max_puffs - n_puffs)):\n",
    "                puffs = np.append(puffs, np.array([[source_x, source_y, source_init_radius, source_peak_concentration]],dtype=np.float32) , axis=0)\n",
    "                n_puffs += 1\n",
    "            \n",
    "        # Calculate wind velocity components\n",
    "        wind_velocity_x = wind_speed[step] * np.cos(wind_direction[step]) * dt\n",
    "        wind_velocity_y = wind_speed[step] * np.sin(wind_direction[step]) * dt\n",
    "\n",
    "        # Add Brownian noise to the velocity components\n",
    "        wind_velocity_x += np.random.normal(0, brownian_noise_scale)\n",
    "        wind_velocity_y += np.random.normal(0, brownian_noise_scale)\n",
    "\n",
    "        # update puff positions\n",
    "        puffs[:, 0] += wind_velocity_x\n",
    "        puffs[:, 1] += wind_velocity_y\n",
    "\n",
    "        # update puff radii\n",
    "        puffs[:, 2] += diffusion_coefficient * dt\n",
    "\n",
    "        # compute concentration at each grid point\n",
    "        for n,puff in enumerate(puffs):\n",
    "            x, y, r, s = puff\n",
    "            x, y = int(x), int(y)\n",
    "            if x >= 0 and x < grid_width and y >= 0 and y < grid_height:\n",
    "                x_grid, y_grid = np.meshgrid(np.arange(grid_height), np.arange(grid_width))\n",
    "                gaussian = np.exp(-((x_grid - x)**2 + (y_grid - y)**2) / (2*r**2))\n",
    "                gaussian = gaussian / np.sum(gaussian)\n",
    "                concentration_time_series[step] += s * gaussian\n",
    "            else:\n",
    "                puffs = np.delete(puffs, n, 0)\n",
    "                n_puffs -= 1\n",
    "    \n",
    "    return concentration_time_series\n",
    "\n",
    "# Example usage\n",
    "dt = 0.1\n",
    "sim_duration = 60\n",
    "num_steps = int(sim_duration / dt)\n",
    "\n",
    "grid_size = (500, 50)\n",
    "source_location = (10, 25)\n",
    "source_init_radius = 1\n",
    "source_peak_concentration = 1\n",
    "puff_release_rate = 10\n",
    "init_num_puffs = 1\n",
    "max_puffs = 100\n",
    "diffusion_coefficient = 0.1\n",
    "brownian_noise_scale = 0.1\n",
    "\n",
    "wind_speed = np.ones(num_steps) * 1\n",
    "wind_direction = np.ones(num_steps) * 0.0\n",
    "\n",
    "\n",
    "\n",
    "time_series = simulate_odor_plume(\n",
    "    num_steps=num_steps,\n",
    "    dt=dt,\n",
    "    grid_size=grid_size,\n",
    "    source_location=source_location,\n",
    "    source_init_radius=source_init_radius,\n",
    "    source_peak_concentration=source_peak_concentration,\n",
    "    puff_release_rate=puff_release_rate,\n",
    "    init_num_puffs=init_num_puffs,\n",
    "    max_puffs=max_puffs,\n",
    "    diffusion_coefficient=diffusion_coefficient,\n",
    "    brownian_noise_scale=brownian_noise_scale,\n",
    "    wind_speed=wind_speed,\n",
    "    wind_direction=wind_direction,\n",
    ")\n"
   ]
  },
  {
   "cell_type": "code",
   "execution_count": 23,
   "metadata": {},
   "outputs": [
    {
     "name": "stderr",
     "output_type": "stream",
     "text": [
      "  0%|          | 0/600 [00:00<?, ?it/s]"
     ]
    },
    {
     "name": "stderr",
     "output_type": "stream",
     "text": [
      "100%|██████████| 600/600 [00:00<00:00, 2908.85it/s]\n"
     ]
    }
   ],
   "source": [
    "# discretize (if needed)\n",
    "digitize = None\n",
    "space = 'linear' # 'log' or 'linear' or 'geom'\n",
    "\n",
    "if digitize is not None:\n",
    "    if space == 'log':\n",
    "        bins = np.max(time_series)+ 1e-5 - np.logspace(np.log10(np.max(time_series)),-5, digitize)\n",
    "    elif space == 'linear':\n",
    "        bins = np.linspace(0, np.max(time_series), digitize)\n",
    "    elif space == 'geom':\n",
    "        bins = np.max(time_series)+ 1e-5 - np.geomspace(np.max(time_series), 1e-5, digitize)\n",
    "    ts = np.digitize(time_series, bins)\n",
    "else:\n",
    "    ts = time_series\n",
    "\n",
    "# convert time series to GIF using PIL\n",
    "frames = []\n",
    "maxx = np.max(ts)\n",
    "for i in tqdm(range(num_steps)):\n",
    "    frame = Image.fromarray(np.uint8(ts[i]/maxx * 255).T)\n",
    "    frames.append(frame)\n",
    "frames[0].save('odor_plume.gif', format='GIF', append_images=frames[1:], save_all=True, fps=30, loop=0)"
   ]
  },
  {
   "cell_type": "code",
   "execution_count": null,
   "metadata": {},
   "outputs": [],
   "source": []
  }
 ],
 "metadata": {
  "kernelspec": {
   "display_name": "base",
   "language": "python",
   "name": "python3"
  },
  "language_info": {
   "codemirror_mode": {
    "name": "ipython",
    "version": 3
   },
   "file_extension": ".py",
   "mimetype": "text/x-python",
   "name": "python",
   "nbconvert_exporter": "python",
   "pygments_lexer": "ipython3",
   "version": "3.9.13"
  },
  "orig_nbformat": 4
 },
 "nbformat": 4,
 "nbformat_minor": 2
}
