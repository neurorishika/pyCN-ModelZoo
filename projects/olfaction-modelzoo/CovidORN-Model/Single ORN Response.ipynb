{
 "cells": [
  {
   "cell_type": "code",
   "execution_count": 1,
   "metadata": {},
   "outputs": [],
   "source": [
    "import numpy as np\n",
    "import matplotlib.pyplot as plt"
   ]
  },
  {
   "cell_type": "code",
   "execution_count": 2,
   "metadata": {},
   "outputs": [],
   "source": [
    "def integrate(T,dt, Xc, stimtime, secpulsetime, secpulse, k1,k2,km1,km2):\n",
    "    numsteps = int((T+1)/dt)\n",
    "    times = np.linspace(-1,T,numsteps)\n",
    "    R = np.zeros(numsteps)\n",
    "    R[0]= R0\n",
    "    B = np.zeros(numsteps)\n",
    "    A = np.zeros(numsteps)\n",
    "\n",
    "    C = np.zeros(numsteps)\n",
    "    CNG = np.zeros(numsteps)\n",
    "\n",
    "    Ca = np.zeros(numsteps)\n",
    "    Ca[0] = 0.1\n",
    "    CaCaM = np.zeros(numsteps)\n",
    "    CaCaM[0] = (KCaM*0.1**4*CaM0)/(KCaM*0.1**4+delCaM)\n",
    "    \n",
    "    X = Xc*np.zeros(numsteps)\n",
    "    for i in range(numsteps):\n",
    "        if times[i] < 0:\n",
    "            continue\n",
    "        if times[i] < stimtime:\n",
    "            X[i] = Xc\n",
    "        elif secpulse == 1 and times[i] > stimtime + secpulsetime and times[i] < stimtime + secpulsetime + stimtime:\n",
    "            X[i] = Xc\n",
    "\n",
    "    for i in range(1,numsteps):\n",
    "        R[i] = R[i-1] + dt*(km1*B[i-1] - k1*R[i-1]*X[i-1])\n",
    "        B[i] = B[i-1] + dt*(k1*R[i-1]*X[i-1] + km2*A[i-1] - km1*B[i-1] - k2*B[i-1])\n",
    "        A[i] = A[i-1] + dt*(k2*B[i-1] - km2*A[i-1])\n",
    "\n",
    "        C[i] = C[i-1] + dt*(KC*A[i-1] - delC*C[i-1])\n",
    "\n",
    "        CNG[i] = (C[i-1]**n)/(C[i-1]**n + ((1.0 + (CaCaM[i-1]/CaCaM0)**nini)/kG)**n)\n",
    "        Ca[i] = Ca[i-1] + dt*(KCa*CNG[i-1] - delCa1*(Ca[i-1]-Ca01) - delCa2*(Ca[i-1]-Ca02) - 4*KCaM*Ca[i-1]**4*(CaM0-CaCaM[i-1]) + 4*delCaM*CaCaM[i-1])\n",
    "        CaCaM[i] = CaCaM[i-1] + dt*(KCaM*Ca[i-1]**4*(CaM0-CaCaM[i-1]) - delCaM*CaCaM[i-1])\n",
    "    return C, Ca , CaCaM , CNG"
   ]
  },
  {
   "cell_type": "markdown",
   "metadata": {},
   "source": [
    "## Equations:\n",
    "\n",
    "\n",
    "Receptor Binding:\n",
    "$$ R + X_i \\underset{km_1}{\\stackrel{k_1}{\\rightleftharpoons}} RX_i \\underset{km_2}{\\stackrel{k_2}{\\rightleftharpoons}} RX_i^* $$\n",
    "\n",
    "cAMP Production:\n",
    "$$RX_i^* \\stackrel{k_C}{\\rightarrow} cAMP \\stackrel{\\delta_C}{\\rightarrow} \\varnothing $$\n",
    "\n",
    "CNG Channel activation (Hill-like Allosteric activation modulated by CaCaM):\n",
    "$$CNG = \\frac{cAMP^n}{cAMP^n+\\Bigg(\\frac{1+\\big(\\frac{CaCaM}{CaCaM_0}\\big)^{nini}}{k_G}\\Bigg)^n}$$\n",
    "\n",
    "Ca Flux:\n",
    "$$CNG \\stackrel{k_{Ca}}{\\rightleftharpoons} Ca $$"
   ]
  },
  {
   "cell_type": "code",
   "execution_count": 10,
   "metadata": {},
   "outputs": [],
   "source": [
    "k1 = 1/(0.010)                                 # rate of R+X binding\n",
    "km1 = 1/(0.010)                                # rate of R+X debinding   \n",
    "k2 = 1/(0.5)                                   # rate of RX activation\n",
    "km2 = 1/(0.5)                                  # rate of RX deactivation\n",
    "\n",
    "KC = 1/(0.5)                                   # rate of production of cAMP\n",
    "delC = 1/(1)                                   # rate of degradation of cAMP\n",
    "\n",
    "kG = 10                                        # overall rate of cAMP-CNG binding\n",
    "\n",
    "KCa = 2 ## Choose to find height                                   # overall rate of Ca influx    \n",
    "delCa1 = 1 ## Need to find                                  # rate of Ca decay in cytosol\n",
    "delCa2 = 10 ## Need to find                                  # rate of Ca decay in cytosol\n",
    "\n",
    "KCaM = 6.8                                     # Rate limited binding # rate of CaM binding\n",
    "delCaM = 0.33                                  # rate of CaM debinding\n",
    "\n",
    "R0 = 1                                         # total receptors at beginning\n",
    "n = 4                                          # number of allosteric binding site\n",
    "CaM0 = 5                                    # initial CaM concentration https://www.nature.com/articles/nn1266?platform=oscar&draft=collection\n",
    "CaCaM0 = (KCaM*0.1**4*CaM0)/(KCaM*0.1**4+delCaM) # baseline CaM concentration https://www.nature.com/articles/nn1266?platform=oscar&draft=collection\n",
    "nini = 2                                       # hill coefficient\n",
    "\n",
    "Ca01 = 0.15 #uM\n",
    "if delCa2 >0:\n",
    "    Ca02 = 0.1+delCa1/delCa2*(0.1-Ca01) #uM\n",
    "else:\n",
    "    Ca02 = 0"
   ]
  },
  {
   "cell_type": "code",
   "execution_count": 11,
   "metadata": {},
   "outputs": [
    {
     "data": {
      "text/plain": [
       "0.0020563686948106936"
      ]
     },
     "execution_count": 11,
     "metadata": {},
     "output_type": "execute_result"
    }
   ],
   "source": [
    "CaCaM0/CaM0"
   ]
  },
  {
   "cell_type": "code",
   "execution_count": 14,
   "metadata": {},
   "outputs": [
    {
     "data": {
      "text/plain": [
       "[<matplotlib.lines.Line2D at 0x1da901e6b00>]"
      ]
     },
     "execution_count": 14,
     "metadata": {},
     "output_type": "execute_result"
    },
    {
     "data": {
      "image/png": "[encoded data removed]",
      "text/plain": [
       "<Figure size 432x432 with 1 Axes>"
      ]
     },
     "metadata": {
      "needs_background": "light"
     },
     "output_type": "display_data"
    }
   ],
   "source": [
    "%matplotlib inline\n",
    "fig,axis = plt.subplots(1,1,figsize = (6,6))\n",
    "\n",
    "num = 4\n",
    "Xconcs = np.logspace(-1.5,1.5,num)\n",
    "\n",
    "dt = 0.0001\n",
    "T = 10\n",
    "stimtime = 5\n",
    "secpulsetime = 8\n",
    "secpulse = 0\n",
    "\n",
    "numsteps = int((T+1)/dt)\n",
    "times = np.linspace(-1,T,numsteps)\n",
    "\n",
    "Cs = np.zeros((num, numsteps))\n",
    "Cas = np.zeros((num, numsteps))\n",
    "CaMs = np.zeros((num, numsteps))\n",
    "CNGs = np.zeros((num, numsteps))\n",
    "\n",
    "for i in range(len(Xconcs)):\n",
    "    Cs[i],Cas[i],CaMs[i],CNGs[i] = integrate(T,dt,Xconcs[i], stimtime, secpulsetime,secpulse,k1,k2,km1,km2)\n",
    "    axis.plot(times, CaMs[i], '-')\n",
    "#     axis.plot(times, CNGs[i], '-')\n",
    "    axis.plot(times, Cas[i], '-', lw = 3, alpha = 0.7)\n",
    "stim = times[(times < stimtime)*(times > 0)]\n",
    "axis.plot(stim , -0.02*np.ones(len(stim)), 'r-', lw = 4, alpha = 1)"
   ]
  },
  {
   "cell_type": "code",
   "execution_count": 33,
   "metadata": {},
   "outputs": [
    {
     "data": {
      "image/png": "[encoded data removed]",
      "text/plain": [
       "<Figure size 432x288 with 1 Axes>"
      ]
     },
     "metadata": {
      "needs_background": "light"
     },
     "output_type": "display_data"
    }
   ],
   "source": [
    "plt.plot(Xconcs,Cas.sum(axis=1)*dt,'o-')\n",
    "plt.xscale('log')"
   ]
  },
  {
   "cell_type": "code",
   "execution_count": 34,
   "metadata": {},
   "outputs": [],
   "source": [
    "def conc_profile():\n",
    "    dt = 0.0001\n",
    "    T = 5\n",
    "    stimtime = 0.5\n",
    "    secpulsetime = 8\n",
    "    secpulse = 0\n",
    "    numsteps = int((T+1)/dt)\n",
    "    times = np.linspace(-1,T,numsteps)\n",
    "    Cs = np.zeros((num, numsteps))\n",
    "    Cas = np.zeros((num, numsteps))\n",
    "    for i in range(len(Xconcs)):\n",
    "        Cs[i],Cas[i] = integrate(T,dt,Xconcs[i], stimtime, secpulsetime,secpulse,k1,k2,km1,km2)\n",
    "    return Cas.sum(axis=1)*dt"
   ]
  },
  {
   "cell_type": "code",
   "execution_count": 38,
   "metadata": {},
   "outputs": [
    {
     "data": {
      "text/plain": [
       "<matplotlib.legend.Legend at 0x1fc6896e438>"
      ]
     },
     "execution_count": 38,
     "metadata": {},
     "output_type": "execute_result"
    },
    {
     "data": {
      "image/png": "[encoded data removed]",
      "text/plain": [
       "<Figure size 432x288 with 1 Axes>"
      ]
     },
     "metadata": {
      "needs_background": "light"
     },
     "output_type": "display_data"
    }
   ],
   "source": [
    "num = 10\n",
    "Xconcs = np.logspace(-2.5,2,num)\n",
    "### Paramset 1\n",
    "kG = 10                                        # overall rate of cAMP-CNG binding\n",
    "plt.plot(Xconcs,conc_profile(),'o-',label = 'Physiological Condition')\n",
    "### Paramset 2\n",
    "kG = 5                                         # overall rate of cAMP-CNG binding\n",
    "plt.plot(Xconcs,conc_profile(),'o-',label = '0.5x Reduced cAMP binding')\n",
    "plt.xscale('log')\n",
    "plt.legend()"
   ]
  },
  {
   "cell_type": "code",
   "execution_count": 42,
   "metadata": {},
   "outputs": [
    {
     "data": {
      "text/plain": [
       "<matplotlib.legend.Legend at 0x1fc6afac438>"
      ]
     },
     "execution_count": 42,
     "metadata": {},
     "output_type": "execute_result"
    },
    {
     "data": {
      "image/png": "[encoded data removed]",
      "text/plain": [
       "<Figure size 432x288 with 1 Axes>"
      ]
     },
     "metadata": {
      "needs_background": "light"
     },
     "output_type": "display_data"
    }
   ],
   "source": [
    "num = 10\n",
    "Xconcs = np.logspace(-2.5,2,num)\n",
    "### Paramset 1\n",
    "KCa = 1/(0.050)                                # overall rate of Ca influx    \n",
    "plt.plot(Xconcs,conc_profile(),'o-',label = 'Physiological Condition')\n",
    "### Paramset 2\n",
    "KCa = 1/(0.050)*0.5                            # overall rate of Ca influx    \n",
    "plt.plot(Xconcs,conc_profile(),'o-',label = '0.5x Reduced Ca influx')\n",
    "plt.xscale('log')\n",
    "plt.legend()"
   ]
  },
  {
   "cell_type": "code",
   "execution_count": 44,
   "metadata": {},
   "outputs": [
    {
     "data": {
      "text/plain": [
       "<matplotlib.legend.Legend at 0x1fc777c1ef0>"
      ]
     },
     "execution_count": 44,
     "metadata": {},
     "output_type": "execute_result"
    },
    {
     "data": {
      "image/png": "[encoded data removed]",
      "text/plain": [
       "<Figure size 432x288 with 1 Axes>"
      ]
     },
     "metadata": {
      "needs_background": "light"
     },
     "output_type": "display_data"
    }
   ],
   "source": [
    "num = 10\n",
    "Xconcs = np.logspace(-2.5,2,num)\n",
    "### Paramset 1\n",
    "KCa = 1/(0.050)                                # overall rate of Ca influx  \n",
    "delCa = 1/(2)                                  # rate of Ca decay in cytosol\n",
    "plt.plot(Xconcs,conc_profile(),'o-',label = 'Physiological Condition')\n",
    "### Paramset 2\n",
    "KCa = 1/(0.050)*0.5                            # overall rate of Ca influx    \n",
    "delCa = 1/(2)*0.5                                  # rate of Ca decay in cytosol\n",
    "plt.plot(Xconcs,conc_profile(),'o-',label = '0.5x Reduced Ca influx')\n",
    "plt.xscale('log')\n",
    "plt.legend()"
   ]
  },
  {
   "cell_type": "code",
   "execution_count": 372,
   "metadata": {},
   "outputs": [],
   "source": [
    "#### OR pathway parameters ####\n",
    "\n",
    "k1 = 1/(0.010)                                 # rate of R+X binding\n",
    "km1 = 1/(0.010)                                # rate of R+X debinding   \n",
    "k2 = 1/(0.5)                                   # rate of RX activation\n",
    "km2 = 1/(0.5)                                  # rate of RX deactivation\n",
    "\n",
    "KC = 1/(0.5)                                   # rate of production of cAMP\n",
    "delC = 1/(1)                                   # rate of degradation of cAMP\n",
    "\n",
    "kG = 10                                        # overall rate of cAMP-CNG binding\n",
    "\n",
    "KCa = 1/(0.050)                                # overall rate of Ca influx    \n",
    "delCa = 1/(2)                                  # rate of Ca decay in cytosol\n",
    "\n",
    "KCaM = 1/(1)                                   # rate of CaM binding\n",
    "delCaM = 1/(3)                                 # rate fo CaM debinding\n",
    "\n",
    "R0 = 1                                         # total receptors at beginning\n",
    "nhill = 4                                      # number of allosteric binding site\n",
    "CaM0 = 0.05                                    # initial CaM concentration\n",
    "nini = 2                                       # hill coefficient\n",
    "\n",
    "# Amazing Calcium details https://www.ncbi.nlm.nih.gov/pmc/articles/PMC2229177\n",
    "\n",
    "Ca0 = 0.05 # uM Ref: Resting Calcium conc www.ncbi.nlm.nih.gov/pmc/articles/PMC2442823/\n",
    "\n",
    "#### Neuron Parameters ####\n",
    "Cm = 1 # uF/cm2\n",
    "VT = -52 # mV\n",
    "\n",
    "# Sodium current #\n",
    "\n",
    "gNa = 50 # mS/cm2\n",
    "ENa = 50 # mV\n",
    "\n",
    "def Na_kinetics(V):\n",
    "    am = (-0.32*(V-VT-13))/(np.exp(-(V-VT-13)/4)-1)\n",
    "    bm = (0.28*(V-VT-40))/(np.exp((V-VT-40)/5)-1)\n",
    "    ah = 0.128*np.exp(-(V-VT-17)/18)\n",
    "    bh = 4/(1+np.exp(-(V-VT-40)/5))\n",
    "    return am,bm,ah,bh\n",
    "\n",
    "# Potassium Delayed Rectifier current #\n",
    "\n",
    "gKd = 5 #uS/cm2\n",
    "EKd = -90 #mV\n",
    "\n",
    "def Kd_kinetics(V):\n",
    "    an = (-0.032*(V-VT-15))/(np.exp(-(V-VT-15)/5)-1)\n",
    "    bn = 0.5*np.exp(-(V-VT-10)/40)\n",
    "    return an,bn\n",
    "\n",
    "# Leak Current #\n",
    "gL = 0.01 # uS/cm2\n",
    "EL = -60 # mV\n",
    "\n",
    "# CNG Current # https://doi.org/10.1085/jgp.100.1.45\n",
    "gCNG = 0.01 # uS/cm2\n",
    "ECNG = -10 # mV\n",
    "\n",
    "# KCa Current #\n",
    "gKCa = 0.1 # uS/cm2\n",
    "EKCa = EKd # mV\n",
    "\n",
    "def KCa_kinetics(Ca):\n",
    "    return Ca/(Ca+2),100/(Ca+2)\n",
    "\n",
    "# Ca-Cl Current # https://doi.org/10.1152/ajpgi.00449.2013\n",
    "\n",
    "gCl = 0.5 #uS/cm2\n",
    "ECl = -40 #mV\n",
    "\n",
    "CaEC50_0 = 0.2 # Calcium half-activation concentration\n",
    "Ca_rescale = 1.39/CaEC50_0 \n",
    "ClVh = -100 #mV  # Ca-Cl half activation voltage\n",
    "Clkv = 0.0156 # mV-1 #Ca-Cl slope factor\n",
    "Cakc = 0.01248 # mV−1 \n",
    "\n",
    "def CaCl_kinetics(V,Ca_):\n",
    "    Ca = Ca_*Ca_rescale\n",
    "    CaEC50 = CaEC50_0*np.exp(-Cakc*V)\n",
    "    cinf = 1/((1+np.exp(ClVh-V)*Clkv)*(1+(CaEC50/Ca_)**2))\n",
    "    t1=0.08163*np.exp(-0.57*Ca)\n",
    "    t2=0.07617*np.exp(-0.05374*Ca)\n",
    "    t3=70.3*np.exp(0.153*Ca)\n",
    "    tau = t1+t2*np.exp(V/t3)\n",
    "    return cinf,tau"
   ]
  },
  {
   "cell_type": "code",
   "execution_count": 373,
   "metadata": {},
   "outputs": [],
   "source": [
    "def integrate_neuron(T,dt, X, k1, k2, km1, km2):\n",
    "    numsteps = int((T+1)/dt)\n",
    "    times = np.linspace(-1,T,numsteps)\n",
    "    \n",
    "    R = np.zeros(numsteps)\n",
    "    R[0]= R0\n",
    "    B = np.zeros(numsteps)\n",
    "    A = np.zeros(numsteps)\n",
    "    C = np.zeros(numsteps)\n",
    "    CNG = np.zeros(numsteps)\n",
    "    Ca = np.zeros(numsteps)\n",
    "    CaM = np.zeros(numsteps)\n",
    "    \n",
    "    V = np.zeros(numsteps)\n",
    "    V[0] = EL\n",
    "    \n",
    "    m = np.zeros(numsteps)\n",
    "    h = np.zeros(numsteps)\n",
    "    n = np.zeros(numsteps)\n",
    "    c = np.zeros(numsteps)\n",
    "    d = np.zeros(numsteps)\n",
    "\n",
    "    for i in range(1,numsteps):\n",
    "        # OR integration\n",
    "        R[i] = R[i-1] + dt*(km1*B[i-1] - k1*R[i-1]*X[i-1])\n",
    "        B[i] = B[i-1] + dt*(k1*R[i-1]*X[i-1] + km2*A[i-1] - km1*B[i-1] - k2*B[i-1])\n",
    "        A[i] = A[i-1] + dt*(k2*B[i-1] - km2*A[i-1])\n",
    "        C[i] = C[i-1] + dt*(KC*A[i-1] - delC*C[i-1])\n",
    "        CNG[i] = (C[i-1]**nhill)/(C[i-1]**nhill + ((1.0 + (CaM[i-1]/CaM0)**nini)/kG)**nhill)\n",
    "        Ca[i] = Ca[i-1] + dt*(KCa*CNG[i-1] - delCa*Ca[i-1] - KCaM*Ca[i-1])\n",
    "        CaM[i] = CaM[i-1] + dt*(KCaM*Ca[i-1] - delCaM*CaM[i-1])\n",
    "        # Neuron Integration\n",
    "        INa = gNa*m[i-1]**3*h[i-1]*(V[i-1]-ENa)\n",
    "        IKd = gKd*n[i-1]**4*(V[i-1]-EKd)\n",
    "        ICNG = gCNG*CNG[i-1]*(V[i-1]-ECNG)\n",
    "        ICl = gCl*c[i-1]*(V[i-1]-ECl)\n",
    "        IKCa = gKCa*d[i-1]*(V[i-1]-EKCa)\n",
    "        \n",
    "        V[i] = V[i-1] + 1000*dt*1/Cm*(-gL*(V[i-1]-EL)-INa-IKd-ICNG-ICl-IKCa)\n",
    "        \n",
    "        am,bm,ah,bh = Na_kinetics(V[i-1])\n",
    "        an,bn = Kd_kinetics(V[i-1])\n",
    "        cinf,tauc = CaCl_kinetics(V[i-1],Ca[i-1])\n",
    "        dinf,taud = KCa_kinetics(Ca[i-1])\n",
    "        \n",
    "        m[i] = m[i-1] + 1000*dt*(am*(1-m[i-1])-bm*m[i-1])\n",
    "        h[i] = h[i-1] + 1000*dt*(ah*(1-h[i-1])-bh*h[i-1])\n",
    "        n[i] = n[i-1] + 1000*dt*(an*(1-n[i-1])-bn*n[i-1])\n",
    "        c[i] = c[i-1] + 1000*dt*(-1/tauc*(c[i-1]-cinf))\n",
    "        d[i] = d[i-1] + 1000*dt*(-1/taud*(d[i-1]-dinf))\n",
    "    return V, Ca, d #, CaM , CNG"
   ]
  },
  {
   "cell_type": "code",
   "execution_count": 421,
   "metadata": {},
   "outputs": [
    {
     "name": "stdout",
     "output_type": "stream",
     "text": [
      "0.1\n"
     ]
    },
    {
     "name": "stderr",
     "output_type": "stream",
     "text": [
      "D:\\Anaconda3\\envs\\tensorflow\\lib\\site-packages\\ipykernel_launcher.py:79: RuntimeWarning: divide by zero encountered in double_scalars\n"
     ]
    },
    {
     "name": "stdout",
     "output_type": "stream",
     "text": [
      "1.0\n",
      "10.0\n",
      "100.0\n"
     ]
    }
   ],
   "source": [
    "dt = 0.00002\n",
    "T = 5\n",
    "numsteps = int((T+1)/dt)\n",
    "times = np.linspace(-1,T,numsteps)\n",
    "\n",
    "stimtime = 0.5\n",
    "secpulsetime = 8\n",
    "secpulse = 0\n",
    "\n",
    "Vss = []\n",
    "for Xc in np.logspace(-1,2,4):\n",
    "    print(Xc)\n",
    "    X = np.zeros(numsteps)\n",
    "    for i in range(numsteps):\n",
    "        if times[i] < 0:\n",
    "            continue\n",
    "        if times[i] < stimtime:\n",
    "            X[i] = Xc\n",
    "        elif secpulse == 1 and times[i] > stimtime + secpulsetime and times[i] < stimtime + secpulsetime + stimtime:\n",
    "            X[i] = Xc\n",
    "    Vs,Cas,ds = integrate_neuron(T,dt,X,k1,k2,km1,km2)\n",
    "    Vss.append(Vs)"
   ]
  },
  {
   "cell_type": "code",
   "execution_count": 422,
   "metadata": {},
   "outputs": [
    {
     "data": {
      "application/vnd.jupyter.widget-view+json": {
       "model_id": "135a3406626a48a78cbea05c5ee3c830",
       "version_major": 2,
       "version_minor": 0
      },
      "text/plain": [
       "Canvas(toolbar=Toolbar(toolitems=[('Home', 'Reset original view', 'home', 'home'), ('Back', 'Back to previous …"
      ]
     },
     "metadata": {},
     "output_type": "display_data"
    },
    {
     "data": {
      "text/plain": [
       "<matplotlib.legend.Legend at 0x1c419bf9f60>"
      ]
     },
     "execution_count": 422,
     "metadata": {},
     "output_type": "execute_result"
    }
   ],
   "source": [
    "%matplotlib widget\n",
    "# plt.fi\n",
    "i=0\n",
    "for Vs in Vss[:-1]:\n",
    "    plt.plot(time,120*i+Vs,alpha=0.5,label=np.logspace(-1,1,3)[i])\n",
    "    i+=1\n",
    "plt.legend()"
   ]
  },
  {
   "cell_type": "code",
   "execution_count": null,
   "metadata": {},
   "outputs": [],
   "source": [
    "%matplotlib widget\n",
    "plt.plot(times,X)"
   ]
  },
  {
   "cell_type": "code",
   "execution_count": 423,
   "metadata": {},
   "outputs": [
    {
     "data": {
      "application/vnd.jupyter.widget-view+json": {
       "model_id": "fe9242d250b24ac1b4a11a2fc9c9635a",
       "version_major": 2,
       "version_minor": 0
      },
      "text/plain": [
       "Canvas(toolbar=Toolbar(toolitems=[('Home', 'Reset original view', 'home', 'home'), ('Back', 'Back to previous …"
      ]
     },
     "metadata": {},
     "output_type": "display_data"
    },
    {
     "data": {
      "text/plain": [
       "[<matplotlib.lines.Line2D at 0x1c41afe51d0>]"
      ]
     },
     "execution_count": 423,
     "metadata": {},
     "output_type": "execute_result"
    }
   ],
   "source": [
    "%matplotlib widget\n",
    "plt.plot(np.linspace(-1,T,numsteps),Cas)"
   ]
  },
  {
   "cell_type": "code",
   "execution_count": 365,
   "metadata": {},
   "outputs": [
    {
     "data": {
      "application/vnd.jupyter.widget-view+json": {
       "model_id": "e9fb90058a994580836719337f25d069",
       "version_major": 2,
       "version_minor": 0
      },
      "text/plain": [
       "Canvas(toolbar=Toolbar(toolitems=[('Home', 'Reset original view', 'home', 'home'), ('Back', 'Back to previous …"
      ]
     },
     "metadata": {},
     "output_type": "display_data"
    },
    {
     "name": "stdout",
     "output_type": "stream",
     "text": [
      "14.922848615486648\n",
      "53.99550035997121\n",
      "61.81092517166144\n",
      "62.37600423558059\n"
     ]
    }
   ],
   "source": [
    "%matplotlib widget\n",
    "for Vs in Vss:\n",
    "    ind = time[:-1][np.logical_and(Vs[1:]>0,Vs[:-1]<0)]\n",
    "    plt.plot(ind[:-1],1/np.diff(ind))\n",
    "    plt.xlim(time[0],time[-1])\n",
    "    print(len(ind)/(ind[-1]-ind[0]))"
   ]
  },
  {
   "cell_type": "code",
   "execution_count": 346,
   "metadata": {},
   "outputs": [
    {
     "data": {
      "text/plain": [
       "58.599461891319685"
      ]
     },
     "execution_count": 346,
     "metadata": {},
     "output_type": "execute_result"
    }
   ],
   "source": [
    "len(ind)/(ind[-1]-ind[0])"
   ]
  },
  {
   "cell_type": "code",
   "execution_count": 402,
   "metadata": {},
   "outputs": [
    {
     "data": {
      "application/vnd.jupyter.widget-view+json": {
       "model_id": "584ebd752621405ba92f9d6d3c65cf46",
       "version_major": 2,
       "version_minor": 0
      },
      "text/plain": [
       "Canvas(toolbar=Toolbar(toolitems=[('Home', 'Reset original view', 'home', 'home'), ('Back', 'Back to previous …"
      ]
     },
     "metadata": {},
     "output_type": "display_data"
    },
    {
     "data": {
      "text/plain": [
       "[<matplotlib.lines.Line2D at 0x1c3be050400>]"
      ]
     },
     "execution_count": 402,
     "metadata": {},
     "output_type": "execute_result"
    }
   ],
   "source": [
    "%matplotlib widget\n",
    "plt.plot(np.convolve(np.random.normal(size=numsteps),1/50*np.ones(5000),mode='same'))"
   ]
  },
  {
   "cell_type": "code",
   "execution_count": 394,
   "metadata": {},
   "outputs": [
    {
     "data": {
      "text/plain": [
       "49999"
      ]
     },
     "execution_count": 394,
     "metadata": {},
     "output_type": "execute_result"
    }
   ],
   "source": []
  },
  {
   "cell_type": "code",
   "execution_count": null,
   "metadata": {},
   "outputs": [],
   "source": []
  }
 ],
 "metadata": {
  "kernelspec": {
   "display_name": "Python 3",
   "language": "python",
   "name": "python3"
  },
  "language_info": {
   "codemirror_mode": {
    "name": "ipython",
    "version": 3
   },
   "file_extension": ".py",
   "mimetype": "text/x-python",
   "name": "python",
   "nbconvert_exporter": "python",
   "pygments_lexer": "ipython3",
   "version": "3.6.8"
  }
 },
 "nbformat": 4,
 "nbformat_minor": 4
}
