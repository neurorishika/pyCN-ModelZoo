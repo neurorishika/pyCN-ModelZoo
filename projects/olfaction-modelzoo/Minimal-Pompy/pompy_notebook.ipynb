{
 "cells": [
  {
   "cell_type": "code",
   "execution_count": 7,
   "metadata": {},
   "outputs": [],
   "source": [
    "from pompy_min import models, processors\n",
    "import numpy as np\n",
    "import matplotlib.pyplot as plt\n",
    "from matplotlib.animation import FuncAnimation\n",
    "from tqdm.notebook import tqdm\n",
    "import sys\n",
    "\n",
    "# Seed random number generator\n",
    "seed = 15403997\n",
    "rng = np.random.RandomState(seed)\n",
    "\n",
    "# Define world model parameters\n",
    "world_model_params = {\n",
    "    'array_z': 0.,\n",
    "    'n_x': 500,\n",
    "    'n_y': 250,\n",
    "    'puff_mol_amount': 8.3e8\n",
    "}\n",
    "\n",
    "# Define plume model parameters\n",
    "plume_model_params = {\n",
    "    'source_pos': (5., 0., 0.),\n",
    "    'centre_rel_diff_scale': 2.,\n",
    "    'puff_release_rate': 10,\n",
    "    'puff_init_rad': 0.001**0.5,\n",
    "    'puff_spread_rate': 0.001,\n",
    "    'init_num_puffs': 10,\n",
    "    'max_num_puffs': 1000,\n",
    "    'model_z_disp': False,\n",
    "}\n",
    "\n",
    "# Define wind model parameters\n",
    "wind_model_params = { \n",
    "    'n_x': 21,\n",
    "    'n_y': 21,\n",
    "    'u_av': 1.,\n",
    "    'v_av': 0.,\n",
    "    'k_x': 10.,\n",
    "    'k_y': 10.,\n",
    "    'noise_gain': 0.,\n",
    "    'noise_damp': 0.0,\n",
    "    'noise_bandwidth': 0.0,\n",
    "    'use_original_noise_updates': False\n",
    "}\n",
    "\n",
    "# Define wind model simulation region\n",
    "wind_region = models.Rectangle(x_min=0., x_max=100., y_min=-50., y_max=50.)\n",
    "\n",
    "# Create wind model object\n",
    "wind_model = models.WindModel(wind_region, rng=rng, **wind_model_params)\n",
    "\n",
    "# Define plume simulation region\n",
    "# This is a subset of the wind simulation region\n",
    "sim_region = models.Rectangle(x_min=0., x_max=50., y_min=-12.5, y_max=12.5)\n",
    "\n",
    "# Create plume model object\n",
    "plume_model = models.PlumeModel(\n",
    "    rng=rng, sim_region=sim_region, wind_model=wind_model, **plume_model_params)\n",
    "\n",
    "# Create concentration array generator object\n",
    "array_gen = processors.ConcentrationArrayGenerator(array_xy_region=sim_region, **world_model_params)"
   ]
  },
  {
   "cell_type": "code",
   "execution_count": 10,
   "metadata": {},
   "outputs": [
    {
     "data": {
      "application/vnd.jupyter.widget-view+json": {
       "model_id": "25d6dbe53a3644989fa5dad706423fdf",
       "version_major": 2,
       "version_minor": 0
      },
      "text/plain": [
       "  0%|          | 0/599 [00:00<?, ?it/s]"
      ]
     },
     "metadata": {},
     "output_type": "display_data"
    }
   ],
   "source": [
    "# Simulation timestep\n",
    "dt = 0.01 #s\n",
    "t = 6 #s\n",
    "\n",
    "conc = np.zeros((int(t/dt),world_model_params['n_x'],world_model_params['n_y']))\n",
    "\n",
    "conc[0,:,:] = array_gen.generate_single_array(plume_model.puff_array)\n",
    "\n",
    "# Run wind model forward to equilibrate\n",
    "for k in range(2000):\n",
    "    wind_model.update(dt)\n",
    "\n",
    "\n",
    "for i in tqdm(range(1,int(t/dt))):\n",
    "    wind_model.update(dt)\n",
    "    plume_model.update(dt)\n",
    "    conc[i,:,:] = array_gen.generate_single_array(plume_model.puff_array)\n",
    "    "
   ]
  },
  {
   "cell_type": "code",
   "execution_count": 13,
   "metadata": {},
   "outputs": [
    {
     "data": {
      "application/vnd.jupyter.widget-view+json": {
       "model_id": "20848e995779405aba9e942b45d5d8ae",
       "version_major": 2,
       "version_minor": 0
      },
      "text/plain": [
       "  0%|          | 0/600 [00:00<?, ?it/s]"
      ]
     },
     "metadata": {},
     "output_type": "display_data"
    }
   ],
   "source": [
    "# convert time series to GIF using PIL\n",
    "from PIL import Image\n",
    "\n",
    "frames = []\n",
    "maxx = np.max(conc)\n",
    "for i in tqdm(range(conc.shape[0])):\n",
    "    frame = Image.fromarray(np.uint8(conc[i]/maxx * 255).T)\n",
    "    frames.append(frame)\n",
    "frames[0].save('odor_plume.gif', format='GIF', append_images=frames[1:], save_all=True, fps=30, loop=0)"
   ]
  },
  {
   "cell_type": "code",
   "execution_count": 15,
   "metadata": {},
   "outputs": [
    {
     "data": {
      "application/vnd.jupyter.widget-view+json": {
       "model_id": "7b8fe8cbb9fc4f1c88532e3e96400923",
       "version_major": 2,
       "version_minor": 0
      },
      "text/plain": [
       "  0%|          | 0/400 [00:00<?, ?it/s]"
      ]
     },
     "metadata": {},
     "output_type": "display_data"
    }
   ],
   "source": [
    "    \n",
    "# Set up figure\n",
    "fig = plt.figure(figsize=(5, 2.5))\n",
    "ax = fig.add_axes([0., 0., 1., 1.])\n",
    "ax.axis('off')\n",
    "\n",
    "# Display initial concentration field as image\n",
    "conc_array = array_gen.generate_single_array(plume_model.puff_array)\n",
    "conc_im = ax.imshow(conc_array.T, extent=(sim_region.x_min,sim_region.x_max,sim_region.y_min,sim_region.y_max),\n",
    "                    vmin=0., vmax=1e10, cmap='Reds')\n",
    "\n",
    "# Simulation timestep\n",
    "dt = 0.01\n",
    "\n",
    "# Run wind model forward to equilibrate\n",
    "for k in range(2000):\n",
    "    wind_model.update(dt)\n",
    "\n",
    "# Define animation update function\n",
    "def update(i):\n",
    "    # Do 10 time steps per frame update\n",
    "    for k in range(10):\n",
    "        wind_model.update(dt)\n",
    "        plume_model.update(dt)\n",
    "    conc_array = array_gen.generate_single_array(plume_model.puff_array)\n",
    "    conc_im.set_data(conc_array.T)\n",
    "    return [conc_im]\n",
    "\n",
    "# Animate plume concentration and save as MP4\n",
    "anim = FuncAnimation(fig, update, frames=tqdm(range(400), file=sys.stdout), repeat=False)\n",
    "anim.save('plume.gif',fps=30)"
   ]
  },
  {
   "cell_type": "code",
   "execution_count": null,
   "metadata": {},
   "outputs": [],
   "source": []
  }
 ],
 "metadata": {
  "kernelspec": {
   "display_name": "pompy",
   "language": "python",
   "name": "python3"
  },
  "language_info": {
   "codemirror_mode": {
    "name": "ipython",
    "version": 3
   },
   "file_extension": ".py",
   "mimetype": "text/x-python",
   "name": "python",
   "nbconvert_exporter": "python",
   "pygments_lexer": "ipython3",
   "version": "3.11.3"
  },
  "orig_nbformat": 4
 },
 "nbformat": 4,
 "nbformat_minor": 2
}
